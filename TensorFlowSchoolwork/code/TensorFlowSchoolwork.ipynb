{
 "cells": [
  {
   "cell_type": "code",
   "execution_count": 1,
   "metadata": {},
   "outputs": [
    {
     "name": "stderr",
     "output_type": "stream",
     "text": [
      "D:\\anaconda\\lib\\site-packages\\h5py\\__init__.py:36: FutureWarning: Conversion of the second argument of issubdtype from `float` to `np.floating` is deprecated. In future, it will be treated as `np.float64 == np.dtype(float).type`.\n",
      "  from ._conv import register_converters as _register_converters\n"
     ]
    }
   ],
   "source": [
    "import numpy as np\n",
    "import tensorflow as tf\n",
    "from sklearn.datasets import load_iris\n",
    "import matplotlib.pyplot as plt\n",
    "%matplotlib inline"
   ]
  },
  {
   "cell_type": "code",
   "execution_count": 2,
   "metadata": {},
   "outputs": [],
   "source": [
    "iris = load_iris()\n",
    "data = iris.data\n",
    "label = iris.target"
   ]
  },
  {
   "cell_type": "code",
   "execution_count": 3,
   "metadata": {},
   "outputs": [],
   "source": [
    "from sklearn.model_selection import train_test_split\n",
    "train_x, test_x, train_y, test_y = train_test_split(data,label,\n",
    "                                                    test_size=0.2,\n",
    "                                                    shuffle=True)"
   ]
  },
  {
   "cell_type": "code",
   "execution_count": 7,
   "metadata": {},
   "outputs": [],
   "source": [
    "#设置占位符\n",
    "xtr = tf.placeholder(tf.float32, shape=[None, 4])\n",
    "xte = tf.placeholder(tf.float32, shape=[4])\n",
    "#计算L1距离\n",
    "dist = tf.sqrt(tf.reduce_sum(tf.abs(tf.add(xtr, tf.negative(xte))), reduction_indices = 1))\n",
    "\n",
    "\n",
    "def knn(K): #K个近邻\n",
    "    with tf.Session() as sess:\n",
    "        predict = [] #存放所有测试样本的预测类别\n",
    "        for i in range(len(test_x)):\n",
    "            dist_mat = sess.run(dist, feed_dict={xtr:train_x, xte:test_x[i]})  \n",
    "            # 将距离矩阵排序后，取出前Ｋ个近邻，进行投票决策\n",
    "            knn_idx = np.argsort(dist_mat)[:K]       \n",
    "            classes = [0, 0, 0]\n",
    "            for idx in knn_idx:\n",
    "                if(train_y[idx]==0):\n",
    "                    classes[0] += 1\n",
    "                elif(train_y[idx]==1):\n",
    "                    classes[1] += 1\n",
    "                else:\n",
    "                    classes[2] += 1\n",
    "            y_pred = np.argmax(classes)\n",
    "            predict.append(y_pred)\n",
    "        return predict"
   ]
  },
  {
   "cell_type": "code",
   "execution_count": 12,
   "metadata": {},
   "outputs": [],
   "source": [
    "all_acc = [] #存放25个k值的正确率\n",
    "for K in range(25): \n",
    "    y_pred = knn(K)\n",
    "    y_true = test_y\n",
    "    acc = np.sum(np.equal(y_pred,y_true)) / len(y_true)\n",
    "    all_acc.append(acc)"
   ]
  },
  {
   "cell_type": "code",
   "execution_count": 13,
   "metadata": {},
   "outputs": [],
   "source": [
    "acc = max(all_acc) #求出20个 K值中正确率最高的"
   ]
  },
  {
   "cell_type": "code",
   "execution_count": 14,
   "metadata": {},
   "outputs": [
    {
     "data": {
      "text/plain": [
       "0.9666666666666667"
      ]
     },
     "execution_count": 14,
     "metadata": {},
     "output_type": "execute_result"
    }
   ],
   "source": [
    "acc #正确率"
   ]
  },
  {
   "cell_type": "code",
   "execution_count": null,
   "metadata": {},
   "outputs": [],
   "source": []
  }
 ],
 "metadata": {
  "kernelspec": {
   "display_name": "Python 3",
   "language": "python",
   "name": "python3"
  },
  "language_info": {
   "codemirror_mode": {
    "name": "ipython",
    "version": 3
   },
   "file_extension": ".py",
   "mimetype": "text/x-python",
   "name": "python",
   "nbconvert_exporter": "python",
   "pygments_lexer": "ipython3",
   "version": "3.6.4"
  }
 },
 "nbformat": 4,
 "nbformat_minor": 2
}
